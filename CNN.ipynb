{
 "cells": [
  {
   "cell_type": "markdown",
   "id": "bac366bc",
   "metadata": {},
   "source": [
    "https://velog.io/@euisuk-chung/%ED%8C%8C%EC%9D%B4%ED%86%A0%EC%B9%98-%ED%8C%8C%EC%9D%B4%ED%86%A0%EC%B9%98%EB%A1%9C-CNN-%EB%AA%A8%EB%8D%B8%EC%9D%84-%EA%B5%AC%ED%98%84%ED%95%B4%EB%B3%B4%EC%9E%90-%EA%B8%B0%EC%B4%88%ED%8E%B8-DataLoader-%EC%82%AC%EC%9A%A9%EB%B2%95"
   ]
  },
  {
   "cell_type": "code",
   "execution_count": 1,
   "id": "88f51957",
   "metadata": {},
   "outputs": [],
   "source": [
    "import torch\n",
    "import torch.nn as nn # 신경망\n",
    "import torch.optim as optim # 최적화 알고리즘\n",
    "import torch.nn.init as init # 텐서 초기값 배정\n",
    "\n",
    "import torchvision.datasets as datasets # 이미지 데이터셋\n",
    "import torchvision.transforms as transforms # 이미지 변환툴\n",
    "\n",
    "from torch.utils.data import DataLoader # 학습 및 배치로 모델에 넣어주기 위한 툴\n",
    "\n",
    "import numpy as np\n",
    "import matplotlib.pyplot as plt"
   ]
  },
  {
   "cell_type": "code",
   "execution_count": 2,
   "id": "32f5c9ef",
   "metadata": {},
   "outputs": [],
   "source": [
    "batch_size = 100\n",
    "learning_rate = 0.0002\n",
    "num_epoch = 10"
   ]
  },
  {
   "cell_type": "code",
   "execution_count": 3,
   "id": "9ec544da",
   "metadata": {},
   "outputs": [],
   "source": [
    "mnist_train = datasets.MNIST(root=\"C:/Users/rohgo/python/DL/Data/\", train=True, \n",
    "                             transform=transforms.ToTensor(), target_transform=None, download=True)\n",
    "mnist_test = datasets.MNIST(root=\"C:/Users/rohgo/python/DL/Data/\", train=False, \n",
    "                             transform=transforms.ToTensor(), target_transform=None, download=True)"
   ]
  },
  {
   "cell_type": "code",
   "execution_count": 4,
   "id": "ecd30c76",
   "metadata": {},
   "outputs": [
    {
     "name": "stdout",
     "output_type": "stream",
     "text": [
      "<class 'torchvision.datasets.mnist.MNIST'>\n",
      "60000\n",
      "<class 'tuple'>\n",
      "2\n"
     ]
    }
   ],
   "source": [
    "# mnist_train은 60000개의 tuple을 들고있다.\n",
    "# 각 tuple에는 하나의 텐서(이미지)와 하나의 라벨이 들어있다.\n",
    "print(type(mnist_train))\n",
    "print(len(mnist_train))\n",
    "\n",
    "print(type(mnist_train[0]))\n",
    "print(len(mnist_train[0]))\n",
    "\n",
    "# print(mnist_train[0])"
   ]
  },
  {
   "cell_type": "code",
   "execution_count": 5,
   "id": "49a002d3",
   "metadata": {},
   "outputs": [],
   "source": [
    "train_loader = DataLoader(mnist_train, batch_size=batch_size, shuffle=True, num_workers=2, drop_last = True)\n",
    "test_loader = DataLoader(mnist_test, batch_size=batch_size, shuffle=True, num_workers=2, drop_last = True)"
   ]
  },
  {
   "cell_type": "code",
   "execution_count": 6,
   "id": "e4abc7e8",
   "metadata": {},
   "outputs": [
    {
     "name": "stdout",
     "output_type": "stream",
     "text": [
      "<class 'torch.utils.data.dataloader.DataLoader'>\n",
      "torch.Size([1, 28, 28])\n",
      "torch.Size([])\n",
      "torch.Size([1, 28, 28])\n",
      "torch.float32\n",
      "label is :  tensor(6)\n"
     ]
    },
    {
     "data": {
      "image/png": "[encoded data removed]",
      "text/plain": [
       "<Figure size 640x480 with 1 Axes>"
      ]
     },
     "metadata": {},
     "output_type": "display_data"
    }
   ],
   "source": [
    "print(type(train_loader))\n",
    "\n",
    "image = 0\n",
    "label = 0\n",
    "\n",
    "for j, [img, lab] in enumerate(train_loader):\n",
    "    image = img[0]\n",
    "    label = lab[0]\n",
    "    break\n",
    "    \n",
    "print(image.shape)\n",
    "print(label.shape)\n",
    "print(image.shape)\n",
    "print(image.dtype)\n",
    "print('label is : ', label)\n",
    "\n",
    "plt.imshow(image.permute(1, 2, 0), cmap='gray')\n",
    "plt.show()"
   ]
  },
  {
   "cell_type": "code",
   "execution_count": 7,
   "id": "090238b2",
   "metadata": {},
   "outputs": [],
   "source": [
    "class CNN(nn.Module):\n",
    "    def __init__(self):\n",
    "        # super 함수로 CNN 클래스의 부모 클래스인 nn.modules를 초기화\n",
    "        super(CNN, self).__init__()\n",
    "        \n",
    "        # batch_size = 100\n",
    "        self.layer = nn.Sequential(\n",
    "            # [100, 1, 28, 28] -> [100, 16, 24, 24]\n",
    "            nn.Conv2d(in_channels=1, out_channels=16, kernel_size=5),\n",
    "            nn.ReLU(),\n",
    "\n",
    "            # [100, 16, 24, 24] -> [100, 32, 20, 20]\n",
    "            nn.Conv2d(in_channels=16, out_channels=32, kernel_size=5),\n",
    "            nn.ReLU(),\n",
    "\n",
    "            # [100, 32, 20, 20] -> [100, 32, 10, 10]\n",
    "            nn.MaxPool2d(kernel_size=2, stride=2),\n",
    "\n",
    "            # [100, 32, 10, 10] -> [100, 64, 6, 6]\n",
    "            nn.Conv2d(in_channels=32, out_channels=64, kernel_size=5),\n",
    "            nn.ReLU(),\n",
    "\n",
    "            # [100, 64, 6, 6] -> [100, 64, 3, 3]\n",
    "            nn.MaxPool2d(kernel_size=2, stride=2)\n",
    "        )\n",
    "\n",
    "        self.fc_layer = nn.Sequential(\n",
    "            # [100, 64*3*3]-> [100, 100]\n",
    "            nn.Linear(64*3*3, 100),\n",
    "            nn.ReLU(),\n",
    "\n",
    "            # [100, 100] -> [100, 10]\n",
    "            nn.Linear(100, 10)\n",
    "        )\n",
    "    \n",
    "    def forward(self, x):\n",
    "        # self.layer에서 정의된 연산 실행\n",
    "        out = self.layer(x)\n",
    "        out = out.view(batch_size, -1)\n",
    "        out = self.fc_layer(out)\n",
    "        \n",
    "        return out\n",
    "        "
   ]
  },
  {
   "cell_type": "code",
   "execution_count": 8,
   "id": "e1b426bb",
   "metadata": {},
   "outputs": [
    {
     "name": "stdout",
     "output_type": "stream",
     "text": [
      "cuda:0\n"
     ]
    }
   ],
   "source": [
    "device = torch.device(\"cuda:0\" if torch.cuda.is_available() else \"cpu\")\n",
    "print(device)"
   ]
  },
  {
   "cell_type": "code",
   "execution_count": 9,
   "id": "91536790",
   "metadata": {},
   "outputs": [],
   "source": [
    "model = CNN().to(device)"
   ]
  },
  {
   "cell_type": "code",
   "execution_count": 10,
   "id": "c024b06b",
   "metadata": {},
   "outputs": [],
   "source": [
    "loss_func = nn.CrossEntropyLoss()\n",
    "optimizer = torch.optim.Adam(model.parameters(), lr=learning_rate)"
   ]
  },
  {
   "cell_type": "code",
   "execution_count": 11,
   "id": "9909f606",
   "metadata": {},
   "outputs": [
    {
     "name": "stdout",
     "output_type": "stream",
     "text": [
      "tensor(2.3010, device='cuda:0', grad_fn=<NllLossBackward0>)\n",
      "tensor(0.1171, device='cuda:0', grad_fn=<NllLossBackward0>)\n",
      "tensor(0.0743, device='cuda:0', grad_fn=<NllLossBackward0>)\n",
      "tensor(0.0451, device='cuda:0', grad_fn=<NllLossBackward0>)\n",
      "tensor(0.0306, device='cuda:0', grad_fn=<NllLossBackward0>)\n",
      "tensor(0.0407, device='cuda:0', grad_fn=<NllLossBackward0>)\n",
      "tensor(0.0481, device='cuda:0', grad_fn=<NllLossBackward0>)\n",
      "tensor(0.0130, device='cuda:0', grad_fn=<NllLossBackward0>)\n",
      "tensor(0.0034, device='cuda:0', grad_fn=<NllLossBackward0>)\n",
      "tensor(0.0228, device='cuda:0', grad_fn=<NllLossBackward0>)\n"
     ]
    }
   ],
   "source": [
    "loss_arr = []\n",
    "for i in range(num_epoch):\n",
    "    for j, [image, label] in enumerate(train_loader):\n",
    "        x = image.to(device)\n",
    "        y = label.to(device)\n",
    "        \n",
    "        optimizer.zero_grad()\n",
    "        \n",
    "        output = model.forward(x)\n",
    "        \n",
    "        loss = loss_func(output, y)\n",
    "        loss.backward()\n",
    "        optimizer.step()\n",
    "        \n",
    "        if j%1000 == 0:\n",
    "            print(loss)\n",
    "            loss_arr.append(loss.cpu().detach().numpy())"
   ]
  },
  {
   "cell_type": "code",
   "execution_count": 12,
   "id": "98d1e687",
   "metadata": {},
   "outputs": [
    {
     "name": "stdout",
     "output_type": "stream",
     "text": [
      "Accuracy of Test Data is 99.11000061035156%\n"
     ]
    }
   ],
   "source": [
    "correct = 0\n",
    "total = 0\n",
    "\n",
    "# evaluate model\n",
    "model.eval()\n",
    "\n",
    "with torch.no_grad():\n",
    "    for image, label in test_loader:\n",
    "        x = image.to(device)\n",
    "        y = label.to(device)\n",
    "        \n",
    "        output = model.forward(x)\n",
    "        \n",
    "        # torch.max 함수는 (절댓값, index)를 반환\n",
    "        _, output_index = torch.max(output, 1)\n",
    "        \n",
    "        # 전체개수 += 라벨의 개수\n",
    "        total += label.size(0)\n",
    "        \n",
    "        # 도출한 모델의 index와 라벨이 일치하면 correct에 추가\n",
    "        correct += (output_index == y).sum().float()\n",
    "        \n",
    "# 정확도 계산\n",
    "print(f'Accuracy of Test Data is {100*correct/total}%')"
   ]
  },
  {
   "cell_type": "code",
   "execution_count": null,
   "id": "9dca4453",
   "metadata": {},
   "outputs": [],
   "source": []
  }
 ],
 "metadata": {
  "kernelspec": {
   "display_name": "DL",
   "language": "python",
   "name": "dl"
  },
  "language_info": {
   "codemirror_mode": {
    "name": "ipython",
    "version": 3
   },
   "file_extension": ".py",
   "mimetype": "text/x-python",
   "name": "python",
   "nbconvert_exporter": "python",
   "pygments_lexer": "ipython3",
   "version": "3.8.18"
  }
 },
 "nbformat": 4,
 "nbformat_minor": 5
}
